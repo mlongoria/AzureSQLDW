{
    "metadata": {
        "kernelspec": {
            "name": "SQL",
            "display_name": "SQL",
            "language": "sql"
        },
        "language_info": {
            "name": "sql",
            "version": ""
        }
    },
    "nbformat_minor": 2,
    "nbformat": 4,
    "cells": [
        {
            "cell_type": "markdown",
            "source": "This notebook illustrates the issue with applying data classifications in Azure SQL DW and then using CTAS to load data. \r\nTo use this demo, create an Azure SQL Data Warehouse and use the sample database. \r\nRun the first 5 code cells down through switching the tables with the RENAME command. See that data classifications are no longer on the dimension table. \r\nThen run the 6th code cell to clean up by deleting the extra tables. \r\nRun the first 4 code cells through creating the upsert table.\r\nRun the cell to create the workaround stored procedure, and then run the subsequent cell to execute the stored procedure.",
            "metadata": {}
        },
        {
            "cell_type": "code",
            "source": "--Create some data classifications on DimCustomer\r\nADD SENSITIVITY CLASSIFICATION TO\r\n    dbo.DimCustomer.EmailAddress, dbo.DimCustomer.Phone\r\n    WITH ( LABEL='Confidential', INFORMATION_TYPE='Contact Info' )",
            "metadata": {},
            "outputs": [
                {
                    "output_type": "display_data",
                    "data": {
                        "text/html": "Commands completed successfully."
                    },
                    "metadata": {}
                },
                {
                    "output_type": "display_data",
                    "data": {
                        "text/html": "Total execution time: 00:00:00.1084793"
                    },
                    "metadata": {}
                }
            ],
            "execution_count": 52
        },
        {
            "cell_type": "code",
            "source": "--Check that the data classifications now exist\r\nSELECT\r\n    sys.all_objects.name AS TableName, sys.all_columns.name As ColumnName,\r\n    [Label], Label_ID, Information_Type, Information_Type_ID\r\nFROM\r\n          sys.sensitivity_classifications\r\nLEFT OUTER JOIN sys.all_objects on sys.sensitivity_classifications.major_id = sys.all_objects.object_id\r\nLEFT OUTER JOIN sys.all_columns on sys.sensitivity_classifications.major_id = sys.all_columns.object_id\r\n                         and sys.sensitivity_classifications.minor_id = sys.all_columns.column_id",
            "metadata": {},
            "outputs": [
                {
                    "output_type": "display_data",
                    "data": {
                        "text/html": "(2 rows affected)"
                    },
                    "metadata": {}
                },
                {
                    "output_type": "display_data",
                    "data": {
                        "text/html": "Total execution time: 00:00:00.2399692"
                    },
                    "metadata": {}
                },
                {
                    "output_type": "execute_result",
                    "metadata": {},
                    "execution_count": 55,
                    "data": {
                        "application/vnd.dataresource+json": {
                            "schema": {
                                "fields": [
                                    {
                                        "name": "TableName"
                                    },
                                    {
                                        "name": "ColumnName"
                                    },
                                    {
                                        "name": "Label"
                                    },
                                    {
                                        "name": "Label_ID"
                                    },
                                    {
                                        "name": "Information_Type"
                                    },
                                    {
                                        "name": "Information_Type_ID"
                                    }
                                ]
                            },
                            "data": [
                                {
                                    "0": "DimCustomer",
                                    "1": "EmailAddress",
                                    "2": "Confidential",
                                    "3": "NULL",
                                    "4": "Contact Info",
                                    "5": "NULL"
                                },
                                {
                                    "0": "DimCustomer",
                                    "1": "Phone",
                                    "2": "Confidential",
                                    "3": "NULL",
                                    "4": "Contact Info",
                                    "5": "NULL"
                                }
                            ]
                        },
                        "text/html": "<table><tr><th>TableName</th><th>ColumnName</th><th>Label</th><th>Label_ID</th><th>Information_Type</th><th>Information_Type_ID</th></tr><tr><td>DimCustomer</td><td>EmailAddress</td><td>Confidential</td><td>NULL</td><td>Contact Info</td><td>NULL</td></tr><tr><td>DimCustomer</td><td>Phone</td><td>Confidential</td><td>NULL</td><td>Contact Info</td><td>NULL</td></tr></table>"
                    }
                }
            ],
            "execution_count": 55
        },
        {
            "cell_type": "code",
            "source": "--Create a staging table with some changed data \r\n\r\nCREATE TABLE dbo.Stg_Customer \r\nWITH\r\n(   DISTRIBUTION = HASH([CustomerKey])\r\n,   CLUSTERED COLUMNSTORE INDEX\r\n)\r\nAS\r\nSELECT [CustomerKey]\r\n      ,[GeographyKey]\r\n      ,[CustomerAlternateKey]\r\n      ,[Title] = Case Gender when 'F' then 'Miss' when 'M' then 'Mr' end\r\n      ,[FirstName]\r\n      ,[MiddleName]\r\n      ,[LastName]\r\n      ,[NameStyle]\r\n      ,[BirthDate]\r\n      ,[MaritalStatus]\r\n      ,[Suffix]\r\n      ,[Gender]\r\n      ,[EmailAddress]\r\n      ,[YearlyIncome]\r\n      ,[TotalChildren]\r\n      ,[NumberChildrenAtHome]\r\n      ,[EnglishEducation]\r\n      ,[SpanishEducation]\r\n      ,[FrenchEducation]\r\n      ,[EnglishOccupation]\r\n      ,[SpanishOccupation]\r\n      ,[FrenchOccupation]\r\n      ,[HouseOwnerFlag]\r\n      ,[NumberCarsOwned]\r\n      ,[AddressLine1]\r\n      ,[AddressLine2]\r\n      ,[Phone]\r\n      ,[DateFirstPurchase]\r\n      ,[CommuteDistance]\r\n  FROM [dbo].[DimCustomer]\r\n  where customerkey < 15000",
            "metadata": {},
            "outputs": [
                {
                    "output_type": "display_data",
                    "data": {
                        "text/html": "(4000 rows affected)"
                    },
                    "metadata": {}
                },
                {
                    "output_type": "display_data",
                    "data": {
                        "text/html": "Total execution time: 00:00:02.1153974"
                    },
                    "metadata": {}
                }
            ],
            "execution_count": 49
        },
        {
            "cell_type": "code",
            "source": "--Create and populate the upsert table\r\nCREATE TABLE dbo.[DimCustomer_upsert]\r\nWITH\r\n(   DISTRIBUTION = HASH([CustomerKey])\r\n,   CLUSTERED COLUMNSTORE INDEX\r\n)\r\nAS\r\n-- New rows and new versions of rows\r\nSELECT [CustomerKey]\r\n      ,[GeographyKey]\r\n      ,[CustomerAlternateKey]\r\n      ,[Title] \r\n      ,[FirstName]\r\n      ,[MiddleName]\r\n      ,[LastName]\r\n      ,[NameStyle]\r\n      ,[BirthDate]\r\n      ,[MaritalStatus]\r\n      ,[Suffix]\r\n      ,[Gender]\r\n      ,[EmailAddress]\r\n      ,[YearlyIncome]\r\n      ,[TotalChildren]\r\n      ,[NumberChildrenAtHome]\r\n      ,[EnglishEducation]\r\n      ,[SpanishEducation]\r\n      ,[FrenchEducation]\r\n      ,[EnglishOccupation]\r\n      ,[SpanishOccupation]\r\n      ,[FrenchOccupation]\r\n      ,[HouseOwnerFlag]\r\n      ,[NumberCarsOwned]\r\n      ,[AddressLine1]\r\n      ,[AddressLine2]\r\n      ,[Phone]\r\n      ,[DateFirstPurchase]\r\n      ,[CommuteDistance]\r\nFROM   dbo.Stg_Customer AS s\r\nUNION ALL  \r\n-- Keep rows that are not being touched\r\nSELECT [CustomerKey]\r\n      ,[GeographyKey]\r\n      ,[CustomerAlternateKey]\r\n      ,[Title] \r\n      ,[FirstName]\r\n      ,[MiddleName]\r\n      ,[LastName]\r\n      ,[NameStyle]\r\n      ,[BirthDate]\r\n      ,[MaritalStatus]\r\n      ,[Suffix]\r\n      ,[Gender]\r\n      ,[EmailAddress]\r\n      ,[YearlyIncome]\r\n      ,[TotalChildren]\r\n      ,[NumberChildrenAtHome]\r\n      ,[EnglishEducation]\r\n      ,[SpanishEducation]\r\n      ,[FrenchEducation]\r\n      ,[EnglishOccupation]\r\n      ,[SpanishOccupation]\r\n      ,[FrenchOccupation]\r\n      ,[HouseOwnerFlag]\r\n      ,[NumberCarsOwned]\r\n      ,[AddressLine1]\r\n      ,[AddressLine2]\r\n      ,[Phone]\r\n      ,[DateFirstPurchase]\r\n      ,[CommuteDistance] \r\n\t  FROM dbo.DimCustomer\r\n\t  AS p\r\nWHERE NOT EXISTS\r\n(   SELECT  *\r\n    FROM    [dbo].[stg_Customer] s\r\n    WHERE   s.[CustomerKey] = p.[CustomerKey]\r\n)\r\n;\r\n",
            "metadata": {},
            "outputs": [
                {
                    "output_type": "display_data",
                    "data": {
                        "text/html": "(18484 rows affected)"
                    },
                    "metadata": {}
                },
                {
                    "output_type": "display_data",
                    "data": {
                        "text/html": "Total execution time: 00:00:02.0165977"
                    },
                    "metadata": {}
                }
            ],
            "execution_count": 50
        },
        {
            "cell_type": "code",
            "source": "--Switch objects by renaming\r\nRENAME OBJECT dbo.[DimCustomer]          TO [DimCustomer_old];\r\nRENAME OBJECT dbo.[DimCustomer_upsert]  TO [DimCustomer];\r\n\r\n--See that the data classifications are now on DimCustomer_old\r\nSELECT\r\n    sys.all_objects.name AS TableName, sys.all_columns.name As ColumnName,\r\n    [Label], Label_ID, Information_Type, Information_Type_ID\r\nFROM\r\n          sys.sensitivity_classifications\r\nleft join sys.all_objects on sys.sensitivity_classifications.major_id = sys.all_objects.object_id\r\nleft join sys.all_columns on sys.sensitivity_classifications.major_id = sys.all_columns.object_id\r\n                         and sys.sensitivity_classifications.minor_id = sys.all_columns.column_id;\r\n",
            "metadata": {},
            "outputs": [
                {
                    "output_type": "display_data",
                    "data": {
                        "text/html": "(2 rows affected)"
                    },
                    "metadata": {}
                },
                {
                    "output_type": "display_data",
                    "data": {
                        "text/html": "Total execution time: 00:00:00.3103288"
                    },
                    "metadata": {}
                },
                {
                    "output_type": "execute_result",
                    "metadata": {},
                    "execution_count": 41,
                    "data": {
                        "application/vnd.dataresource+json": {
                            "schema": {
                                "fields": [
                                    {
                                        "name": "TableName"
                                    },
                                    {
                                        "name": "ColumnName"
                                    },
                                    {
                                        "name": "Label"
                                    },
                                    {
                                        "name": "Label_ID"
                                    },
                                    {
                                        "name": "Information_Type"
                                    },
                                    {
                                        "name": "Information_Type_ID"
                                    }
                                ]
                            },
                            "data": [
                                {
                                    "0": "DimCustomer_old",
                                    "1": "EmailAddress",
                                    "2": "Confidential",
                                    "3": "NULL",
                                    "4": "Contact Info",
                                    "5": "NULL"
                                },
                                {
                                    "0": "DimCustomer_old",
                                    "1": "Phone",
                                    "2": "Confidential",
                                    "3": "NULL",
                                    "4": "Contact Info",
                                    "5": "NULL"
                                }
                            ]
                        },
                        "text/html": "<table><tr><th>TableName</th><th>ColumnName</th><th>Label</th><th>Label_ID</th><th>Information_Type</th><th>Information_Type_ID</th></tr><tr><td>DimCustomer_old</td><td>EmailAddress</td><td>Confidential</td><td>NULL</td><td>Contact Info</td><td>NULL</td></tr><tr><td>DimCustomer_old</td><td>Phone</td><td>Confidential</td><td>NULL</td><td>Contact Info</td><td>NULL</td></tr></table>"
                    }
                }
            ],
            "execution_count": 41
        },
        {
            "cell_type": "code",
            "source": "--Cleanup\r\nDROP TABLE dbo.DimCustomer_old;\r\nDROP TABLE dbo.Stg_Customer;",
            "metadata": {},
            "outputs": [
                {
                    "output_type": "display_data",
                    "data": {
                        "text/html": "Commands completed successfully."
                    },
                    "metadata": {}
                },
                {
                    "output_type": "display_data",
                    "data": {
                        "text/html": "Total execution time: 00:00:00.4958549"
                    },
                    "metadata": {}
                }
            ],
            "execution_count": 42
        },
        {
            "cell_type": "markdown",
            "source": "Workaround: Instead of doing the rename object on your own, add the stored procedure below and use it. Re-run the first four sections above, down through populating the upsert table. Then call the stored procedure as shown in the bottom section",
            "metadata": {}
        },
        {
            "cell_type": "code",
            "source": "CREATE PROC SwapWithMetadata\r\n    @SrcSchema NVARCHAR(128),\r\n    @SrcTable NVARCHAR(128),\r\n    @DestSchema NVARCHAR(128),\r\n    @DestTable NVARCHAR(128),\r\n    @TransferMetadata BIT,\r\n    @DropOldTable BIT\r\nAS\r\n\r\nBEGIN\r\n    SET NOCOUNT ON\r\n\r\n    BEGIN TRY \r\n        --Check if destination table exists\r\n        DECLARE @DestSchemaQualifiedTableName NVARCHAR(257)\r\n        SET @DestSchemaQualifiedTableName = @DestSchema + '.' + @DestTable\r\n        \r\n        IF OBJECT_ID(@DestSchemaQualifiedTableName) IS NULL\r\n        BEGIN\r\n        DECLARE @DestErr NVARCHAR(MAX)\r\n            SET @DestErr = 'Table ' + @DestSchemaQualifiedTableName + ' not found'\r\n            RAISERROR(@DestErr, 15, 1)\r\n        END\r\n\r\n        --Check if source table exists\r\n        DECLARE @SrcSchemaQualifiedTableName NVARCHAR(257)\r\n        SET @SrcSchemaQualifiedTableName = @SrcSchema + '.' + @SrcTable\r\n\r\n        IF OBJECT_ID(@SrcSchemaQualifiedTableName) IS NULL\r\n            BEGIN\r\n                DECLARE @SrcErr NVARCHAR(MAX)\r\n                SET @SrcErr = 'Table ' + @SrcSchemaQualifiedTableName + ' not found'\r\n                RAISERROR(@SrcErr, 15, 1)\r\n            END\r\n\t\t\t\t\r\n        --Move destination table to destination_old. Move source table to destination\r\n        DECLARE @RenameSql NVARCHAR(MAX)\r\n        SET @RenameSql = 'RENAME OBJECT ' + @DestSchemaQualifiedTableName + ' TO ' + @DestTable + '_old; '\r\n        Set @RenameSql = @RenameSql + '  RENAME OBJECT ' + @SrcSchemaQualifiedTableName + ' TO ' + @DestTable\r\n        PRINT 'Executing ' + @RenameSql + ' ...'\r\n        EXEC sp_executesql @RenameSql;\r\n\r\n        --drop temp table if it exists\r\n        IF OBJECT_ID('tempDB..#tempApplySensitivityClassificationsToTable') IS NOT NULL\r\n\t\t\tDROP TABLE #tempApplySensitivityClassificationsToTable;\r\n\r\n        --check if we should transfer data classifications from old to new table \r\n        IF ISNULL(@TransferMetadata,0) = 1 \r\n\t\tBEGIN\r\n\r\n            --put current classifications in a temp table\r\n            DECLARE @OldTable NVARCHAR(128) = @DestTable + '_old';\r\n            WITH  CurrentClassifications as (\r\n                SELECT\r\n                    CAST('dbo' as NVARCHAR(128)) [Schema],\r\n                    CAST(sys.all_objects.name as NVARCHAR(128)) [Table],\r\n                    CAST(sys.all_columns.name as NVARCHAR(128)) [Column],\r\n                    CAST([Information_Type] as NVARCHAR(128)) [Informationtype],\r\n                    CAST([Label] as NVARCHAR(128)) [Label]\r\n                FROM\r\n                    sys.sensitivity_classifications\r\n                    LEFT OUTER JOIN sys.all_objects on sys.sensitivity_classifications.major_id = sys.all_objects.object_id\r\n                    LEFT OUTER JOIN sys.all_columns on sys.sensitivity_classifications.major_id = sys.all_columns.object_id\r\n                        and sys.sensitivity_classifications.minor_id = sys.all_columns.column_id\r\n\r\n            )\r\n            SELECT ROW_NUMBER() OVER (ORDER BY [Schema], [Table], [Column]) [ID],\r\n                [Schema], [Table], [Column], [Informationtype], [Label]\r\n            INTO #tempApplySensitivityClassificationsToTable\r\n            FROM CurrentClassifications\r\n            WHERE [Schema] = @DestSchema AND [Table] = @OldTable;\r\n\r\n\r\n            DECLARE @i INT\r\n            SET @i = 1\r\n            DECLARE @Max INT\r\n            SELECT @Max = COUNT(*)\r\n            FROM #tempApplySensitivityClassificationsToTable;\r\n\r\n            PRINT 'Transferring ' + CAST(@Max as VARCHAR(4)) + ' classifications'\r\n            --drop and recreate sensitivity classifications\r\n            DECLARE @Sql NVARCHAR(MAX)\r\n            DECLARE @Col NVARCHAR(128)\r\n            DECLARE @InfoType NVARCHAR(128)\r\n            DECLARE @Label NVARCHAR(128)\r\n\r\n        WHILE @i <= @Max\r\n\t\t\tBEGIN\r\n                SELECT @Col = [Column], @InfoType = [InformationType], @Label = [Label]\r\n                FROM #tempApplySensitivityClassificationsToTable\r\n                WHERE Id = @i\r\n\r\n                SET @Sql = 'DROP SENSITIVITY CLASSIFICATION FROM ' + @DestSchemaQualifiedTableName + '.' + @Col\r\n                PRINT 'Executing ' + @Sql + '...'\r\n                EXEC sp_executesql @Sql\r\n\r\n                SET @Sql = 'ADD SENSITIVITY CLASSIFICATION TO ' + @DestSchemaQualifiedTableName + '.' + @Col\r\n                IF (@InfoType IS NOT NULL AND @Label IS NOT NULL)\r\n                    BEGIN\r\n                        SET @Sql = @Sql + ' WITH (LABEL=''' + @Label + ''', INFORMATION_TYPE=''' + @InfoType + ''')'\r\n                    END\r\n                ELSE IF (@InfoType IS NOT NULL)\r\n                    BEGIN\r\n                        SET @Sql = @Sql + ' WITH (INFORMATION_TYPE=''' + @InfoType + ''')'\r\n                    END\r\n                ELSE IF (@Label IS NOT NULL)\r\n                    BEGIN\r\n                        SET @Sql = @Sql + ' WITH (LABEL=''' + @InfoType + ''')'\r\n                    END\r\n                ELSE\r\n                    BEGIN\r\n                        SET @Sql = NULL\r\n                    END\r\n                IF (@Sql IS NOT NULL)\r\n                    BEGIN\r\n                        PRINT 'Executing ' + @Sql + '...'\r\n                        EXEC sp_executesql @Sql\r\n                    END\r\n\r\n                SET @i = @i + 1\r\n            END\r\n        END\r\n\r\n        IF ISNULL(@DropOldTable,0) = 1 \r\n        BEGIN\r\n            DECLARE @DropSql NVARCHAR(MAX)\r\n            SET @DropSql = 'DROP TABLE ' + @DestSchemaQualifiedTableName + '_old;'\r\n            PRINT 'Executing ' + @DropSql + '...'\r\n            EXEC sp_executesql @DropSql;\r\n        END\r\n\r\n\tEND TRY \r\n\t\r\n    BEGIN CATCH \r\n\t    Print 'ERROR... Procedure: ' + ERROR_PROCEDURE() + '  Message: ' + ERROR_MESSAGE()\r\n\tEND CATCH\r\n\r\nEND\r\n ",
            "metadata": {},
            "outputs": [
                {
                    "output_type": "error",
                    "evalue": "Msg 2714, Level 16, State 3, Line 1\r\nThere is already an object named 'SwapWithMetadata' in the database.",
                    "ename": "",
                    "traceback": []
                },
                {
                    "output_type": "display_data",
                    "data": {
                        "text/html": "Total execution time: 00:00:00.1032211"
                    },
                    "metadata": {}
                }
            ],
            "execution_count": 43
        },
        {
            "cell_type": "code",
            "source": "EXEC SwapWithMetadata 'dbo', 'DimCustomer_Upsert', 'dbo','DimCustomer',1,1",
            "metadata": {},
            "outputs": [
                {
                    "output_type": "display_data",
                    "data": {
                        "text/html": "Executing RENAME OBJECT dbo.DimCustomer TO DimCustomer_old;   RENAME OBJECT dbo.DimCustomer_Upsert TO DimCustomer ..."
                    },
                    "metadata": {}
                },
                {
                    "output_type": "display_data",
                    "data": {
                        "text/html": "Transferring 2 classifications"
                    },
                    "metadata": {}
                },
                {
                    "output_type": "display_data",
                    "data": {
                        "text/html": "Executing DROP SENSITIVITY CLASSIFICATION FROM dbo.DimCustomer.EmailAddress..."
                    },
                    "metadata": {}
                },
                {
                    "output_type": "display_data",
                    "data": {
                        "text/html": "Executing ADD SENSITIVITY CLASSIFICATION TO dbo.DimCustomer.EmailAddress WITH (LABEL='Confidential', INFORMATION_TYPE='Contact Info')..."
                    },
                    "metadata": {}
                },
                {
                    "output_type": "display_data",
                    "data": {
                        "text/html": "Executing DROP SENSITIVITY CLASSIFICATION FROM dbo.DimCustomer.Phone..."
                    },
                    "metadata": {}
                },
                {
                    "output_type": "display_data",
                    "data": {
                        "text/html": "Executing ADD SENSITIVITY CLASSIFICATION TO dbo.DimCustomer.Phone WITH (LABEL='Confidential', INFORMATION_TYPE='Contact Info')..."
                    },
                    "metadata": {}
                },
                {
                    "output_type": "display_data",
                    "data": {
                        "text/html": "Executing DROP TABLE dbo.DimCustomer_old;..."
                    },
                    "metadata": {}
                },
                {
                    "output_type": "display_data",
                    "data": {
                        "text/html": "Total execution time: 00:00:03.3317753"
                    },
                    "metadata": {}
                }
            ],
            "execution_count": 54
        },
        {
            "cell_type": "code",
            "source": "--Cleanup\r\nDrop table dbo.Stg_Customer;",
            "metadata": {},
            "outputs": [
                {
                    "output_type": "display_data",
                    "data": {
                        "text/html": "Commands completed successfully."
                    },
                    "metadata": {}
                },
                {
                    "output_type": "display_data",
                    "data": {
                        "text/html": "Total execution time: 00:00:00.2659364"
                    },
                    "metadata": {}
                }
            ],
            "execution_count": 56
        }
    ]
}